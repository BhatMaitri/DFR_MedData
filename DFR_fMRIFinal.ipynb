{
  "nbformat": 4,
  "nbformat_minor": 0,
  "metadata": {
    "colab": {
      "provenance": [],
      "gpuType": "T4"
    },
    "kernelspec": {
      "name": "python3",
      "display_name": "Python 3"
    },
    "language_info": {
      "name": "python"
    },
    "accelerator": "GPU"
  },
  "cells": [
    {
      "cell_type": "code",
      "execution_count": null,
      "metadata": {
        "id": "wTFVsh1O4M7o"
      },
      "outputs": [],
      "source": [
        "# Clone the repository\n",
        "!git clone https://github.com/BhatMaitri/DFR_MedData\n",
        "# Move all content to the current directory\n",
        "!mv ./DFR_MedData/* ./"
      ]
    },
    {
      "cell_type": "code",
      "source": [
        "# Download the data\n",
        "!wget https://syncandshare.lrz.de/dl/fiH6r4B6WyzAaxZXTEAYCE/data.zip\n",
        "# Extract the data\n",
        "!unzip -q ./data.zip"
      ],
      "metadata": {
        "id": "gRyKDw5-4Q4T"
      },
      "execution_count": null,
      "outputs": []
    },
    {
      "cell_type": "code",
      "source": [
        "# Install additional packages\n",
        "!pip install pytorch_lightning --quiet\n",
        "!pip install lpips"
      ],
      "metadata": {
        "id": "F2v7Q3Hl4T9a"
      },
      "execution_count": null,
      "outputs": []
    },
    {
      "cell_type": "code",
      "source": [
        "import matplotlib.pyplot as plt\n",
        "import pytorch_lightning as pl\n",
        "import torch\n",
        "import yaml\n",
        "\n",
        "# autoreload imported modules\n",
        "%load_ext autoreload\n",
        "%autoreload 2"
      ],
      "metadata": {
        "id": "QRE-OWjn4XFl"
      },
      "execution_count": null,
      "outputs": []
    },
    {
      "cell_type": "code",
      "source": [
        "#Fill DFR config file\n",
        "from dfr_config import config2\n",
        "cfg = config2()\n",
        "cfg.save_path = \"/content/model\"\n",
        "cfg.cnn_layers = ('relu1_1', 'relu1_2', 'relu2_1', 'relu2_2',\n",
        "                  'relu3_1', 'relu3_2', 'relu3_3', 'relu3_4',\n",
        "                  'relu4_1', 'relu4_2', 'relu4_3', 'relu4_4')"
      ],
      "metadata": {
        "id": "-iFJzqqV4ZvS"
      },
      "execution_count": null,
      "outputs": []
    },
    {
      "cell_type": "code",
      "source": [
        "from anoseg_dfr import AnoSegDFR\n",
        "\n",
        "dfr = AnoSegDFR(cfg)\n"
      ],
      "metadata": {
        "id": "Z6SIfjs14c7X"
      },
      "execution_count": null,
      "outputs": []
    },
    {
      "cell_type": "code",
      "source": [
        "#train the model\n",
        "dfr.train()"
      ],
      "metadata": {
        "id": "V9iIEmFN4fWr"
      },
      "execution_count": null,
      "outputs": []
    },
    {
      "cell_type": "code",
      "source": [
        "dfr. metrics_evaluation()"
      ],
      "metadata": {
        "id": "5cKzPTWwmdeA"
      },
      "execution_count": null,
      "outputs": []
    }
  ]
}